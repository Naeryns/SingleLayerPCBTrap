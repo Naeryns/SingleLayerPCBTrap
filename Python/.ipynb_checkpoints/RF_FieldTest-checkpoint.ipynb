{
 "cells": [
  {
   "cell_type": "code",
   "execution_count": 1,
   "id": "94dd15fa-c32e-452d-bfad-8822d052eb16",
   "metadata": {},
   "outputs": [],
   "source": [
    "import numpy as np"
   ]
  },
  {
   "cell_type": "code",
   "execution_count": null,
   "id": "53e953a6-93c1-405f-8e52-36d4e2b76223",
   "metadata": {},
   "outputs": [],
   "source": [
    "prefix = '..\\\\Ansys\\\\Outputs_RF\\\\'\n",
    "filename = 'TrajSimTest.fld'"
   ]
  },
  {
   "cell_type": "code",
   "execution_count": null,
   "id": "a5dccc48-8e90-4223-9f99-cbfd617ccd8d",
   "metadata": {},
   "outputs": [],
   "source": [
    "with open(prefix + filename) as f:\n",
    "    lines = f.readlines()\n",
    "\n",
    "# To remove parameters from memory, use:\n",
    "# import gc\n",
    "# del lines # Remove reference of the parameter\n",
    "# gc.collect() # Remove unreferenced parameters from RAM"
   ]
  },
  {
   "cell_type": "code",
   "execution_count": null,
   "id": "0cb42bdb-8056-467b-a130-43462cd1ee6f",
   "metadata": {},
   "outputs": [],
   "source": [
    " "
   ]
  }
 ],
 "metadata": {
  "kernelspec": {
   "display_name": "Python 3 (ipykernel)",
   "language": "python",
   "name": "python3"
  },
  "language_info": {
   "codemirror_mode": {
    "name": "ipython",
    "version": 3
   },
   "file_extension": ".py",
   "mimetype": "text/x-python",
   "name": "python",
   "nbconvert_exporter": "python",
   "pygments_lexer": "ipython3",
   "version": "3.9.19"
  }
 },
 "nbformat": 4,
 "nbformat_minor": 5
}
