{
 "cells": [
  {
   "cell_type": "code",
   "execution_count": 1,
   "id": "ece23394-85e4-42b4-978a-d8dc9d468760",
   "metadata": {},
   "outputs": [],
   "source": [
    "import numpy as np\n",
    "import matplotlib.pyplot as plt\n",
    "import time"
   ]
  },
  {
   "cell_type": "code",
   "execution_count": 2,
   "id": "df409411-48f4-49c0-bfec-01a7ddd70b64",
   "metadata": {
    "jupyter": {
     "source_hidden": true
    }
   },
   "outputs": [],
   "source": [
    "import re\n",
    "\n",
    "def grid_from_header(header=None, filename=None, mode='grid'):\n",
    "    '''Generate coordinates grid from the header data of an fld file'''\n",
    "\n",
    "    # Read header from file if not provided.\n",
    "    if header is None:\n",
    "        with open(filename) as f:\n",
    "            header = f.readline()\n",
    "    \n",
    "    # Extract basic data from header\n",
    "    min_match = re.search(r'Min: \\[([^\\]]+)\\]', header)\n",
    "    max_match = re.search(r'Max: \\[([^\\]]+)\\]', header)\n",
    "    size_match = re.search(r'Grid Size: \\[([^\\]]+)\\]', header)\n",
    "    if min_match and max_match and size_match:\n",
    "        min_vals = [float(val.replace('mm', 'e-3')) for val in min_match.group(1).split()]\n",
    "        max_vals = [float(val.replace('mm', 'e-3')) for val in max_match.group(1).split()]\n",
    "        grid_size_vals = [float(val.replace('mm', 'e-3')) for val in size_match.group(1).split()]\n",
    "    else:\n",
    "        raise ValueError('Unable to analyze the header')\n",
    "    x_min, y_min, z_min = min_vals\n",
    "    x_max, y_max, z_max = max_vals\n",
    "    dx, dy, dz = grid_size_vals\n",
    "\n",
    "    if mode == 'grid':\n",
    "        # Generate the grid\n",
    "        X = np.arange(x_min, x_max + dx/2, dx)\n",
    "        Y = np.arange(y_min, y_max + dy/2, dy)\n",
    "        Z = np.arange(z_min, z_max + dz/2, dz)\n",
    "        xs, ys, zs = np.meshgrid(X, Y, Z, indexing='ij')\n",
    "        nx = len(X)\n",
    "        ny = len(Y)\n",
    "        nz = len(Z)\n",
    "\n",
    "        return xs, ys, zs, nx, ny, nz\n",
    "\n",
    "    elif mode == 'conf':\n",
    "        return (x_min, y_min, z_min), (x_max, y_max, z_max), (dx, dy, dz)\n",
    "\n",
    "    else:\n",
    "        raise ValueError('\\'mode\\' must be \\'grid\\' or \\'conf\\'.')"
   ]
  },
  {
   "cell_type": "code",
   "execution_count": 3,
   "id": "5af4b7bb-2742-4075-8ae9-dcd79d4bf821",
   "metadata": {
    "jupyter": {
     "source_hidden": true
    }
   },
   "outputs": [],
   "source": [
    "def scalar_from_file(filename):\n",
    "    '''Read scalar data (DC potential, RF MagE) from an Ansys fld file and return result in grid shaped array'''\n",
    "    \n",
    "    # Open file and read content\n",
    "    with open(filename) as f:\n",
    "        lines = f.readlines()\n",
    "\n",
    "    # Generate grid array from header\n",
    "    header = lines[0]\n",
    "    xs, ys, zs, nx, ny, nz = grid_from_header(header=header)\n",
    "    \n",
    "    # Read file data\n",
    "    data = np.zeros(len(lines)-2)\n",
    "    for i, line in enumerate(lines[2:]):\n",
    "        try:\n",
    "            data[i] = float(line.split(' ')[-1])\n",
    "        except:\n",
    "            print('Error:', i, line.split(' ')[-1])\n",
    "\n",
    "    # Reshape the data\n",
    "    data_grid = data.reshape((nx, ny, nz))\n",
    "\n",
    "    # Progress Feedback\n",
    "    print(f'File {filename} read.')\n",
    "\n",
    "    return xs, ys, zs, data_grid"
   ]
  },
  {
   "cell_type": "code",
   "execution_count": 4,
   "id": "f6ab49fa-3f73-41c3-89c3-8e713066824e",
   "metadata": {},
   "outputs": [],
   "source": [
    "# Setting up RF multifiles configuration\n",
    "rf_conf = {'rf': {'file': '..\\\\Ansys\\\\Outputs_RF\\\\TrajSimTest.fld'},\n",
    "        'cy': {'file': '..\\\\Ansys\\\\Outputs_RF\\\\TrajSimTest_Cylinder.fld'},\n",
    "        'c1': {'file': '..\\\\Ansys\\\\Outputs_RF\\\\TrajSimTest_Cube1.fld'},\n",
    "        'c2': {'file': '..\\\\Ansys\\\\Outputs_RF\\\\TrajSimTest_Cube2.fld'},\n",
    "        'c3': {'file': '..\\\\Ansys\\\\Outputs_RF\\\\TrajSimTest_Cube3.fld'}}"
   ]
  },
  {
   "cell_type": "code",
   "execution_count": 5,
   "id": "c0e01419-f7ff-41b9-a8e3-d8cf92cb7809",
   "metadata": {},
   "outputs": [
    {
     "name": "stdout",
     "output_type": "stream",
     "text": [
      "Reading zone rf ...\n",
      "File ..\\Ansys\\Outputs_RF\\TrajSimTest.fld read.\n",
      "File Readout Time: 1.5189 seconds.\n",
      "Reading zone cy ...\n",
      "File ..\\Ansys\\Outputs_RF\\TrajSimTest_Cylinder.fld read.\n",
      "File Readout Time: 6.8975 seconds.\n",
      "Reading zone c1 ...\n",
      "File ..\\Ansys\\Outputs_RF\\TrajSimTest_Cube1.fld read.\n",
      "File Readout Time: 10.4877 seconds.\n",
      "Reading zone c2 ...\n",
      "File ..\\Ansys\\Outputs_RF\\TrajSimTest_Cube2.fld read.\n",
      "File Readout Time: 13.6471 seconds.\n",
      "Reading zone c3 ...\n",
      "File ..\\Ansys\\Outputs_RF\\TrajSimTest_Cube3.fld read.\n",
      "File Readout Time: 13.9731 seconds.\n"
     ]
    },
    {
     "data": {
      "text/plain": [
       "0"
      ]
     },
     "execution_count": 5,
     "metadata": {},
     "output_type": "execute_result"
    }
   ],
   "source": [
    "# Read data from RF files\n",
    "rf_grid = {}\n",
    "rf_magE = {}\n",
    "\n",
    "for zone in rf_conf:\n",
    "    \n",
    "    print(f'Reading zone {zone} ...')\n",
    "    start_time = time.time()\n",
    "    rf_grid[zone] = {}\n",
    "    rf_conf[zone]['min'], rf_conf[zone]['max'], rf_conf[zone]['step'] = grid_from_header(filename=rf_conf[zone]['file'], mode='conf')\n",
    "    \n",
    "    xs, ys, zs, magE = scalar_from_file(rf_conf[zone]['file'])\n",
    "    \n",
    "    rf_grid[zone]['x'] = xs\n",
    "    rf_grid[zone]['y'] = ys\n",
    "    rf_grid[zone]['z'] = zs\n",
    "    \n",
    "    rf_grid[zone]['unique_x'] = np.unique(xs)\n",
    "    rf_grid[zone]['unique_y'] = np.unique(ys)\n",
    "    rf_grid[zone]['unique_z'] = np.unique(zs)\n",
    "    \n",
    "    rf_magE[zone] = magE\n",
    "    \n",
    "    end_time = time.time()\n",
    "    print(f'File Readout Time: {end_time - start_time:.4f} seconds.')\n",
    "\n",
    "import gc\n",
    "del xs, ys, zs, magE\n",
    "gc.collect()"
   ]
  },
  {
   "cell_type": "code",
   "execution_count": 6,
   "id": "aafd7b6f-dc99-4f2d-ae03-24c4dd740a7e",
   "metadata": {},
   "outputs": [
    {
     "data": {
      "text/plain": [
       "0"
      ]
     },
     "execution_count": 6,
     "metadata": {},
     "output_type": "execute_result"
    }
   ],
   "source": [
    "# Basic Trapping Paramenters\n",
    "m = 9.1093837e-31\n",
    "q = -1.60217663e-19\n",
    "freq = 1.36e+09\n",
    "\n",
    "# Calculate field from basic data\n",
    "Ups = {}\n",
    "rf_force = {}\n",
    "for zone in rf_conf:\n",
    "    \n",
    "    Ups[zone] = (q*rf_magE[zone]) ** 2 / (4 * m * (2*np.pi*freq) ** 2)\n",
    "    F = np.gradient(Ups[zone], rf_conf[zone]['step'][0])\n",
    "\n",
    "    rf_force[zone] = {}\n",
    "    rf_force[zone]['x'] = -F[0]\n",
    "    rf_force[zone]['y'] = -F[1]\n",
    "    rf_force[zone]['z'] = -F[2]\n",
    "\n",
    "# Release RAM if needed\n",
    "save_Ups = True\n",
    "if not save_Ups:\n",
    "    del Ups\n",
    "del F\n",
    "gc.collect()"
   ]
  },
  {
   "cell_type": "code",
   "execution_count": 7,
   "id": "7496ca30-c2b4-4945-a04d-4336a8c0c5e5",
   "metadata": {
    "jupyter": {
     "source_hidden": true
    }
   },
   "outputs": [],
   "source": [
    "from scipy.interpolate import griddata\n",
    "\n",
    "def fill_NaN_nearest(data, X, Y, Z):\n",
    "    '''Fill NaN in a data set by its nearest value.'''\n",
    "\n",
    "    # Get all valid points and values\n",
    "    valid_mask = ~np.isnan(data)\n",
    "    valid_points = np.column_stack((X[valid_mask], Y[valid_mask], Z[valid_mask]))\n",
    "    valid_values = data[valid_mask]\n",
    "\n",
    "    # Get all points\n",
    "    all_points = np.column_stack((X.ravel(), Y.ravel(), Z.ravel()))\n",
    "\n",
    "    # Fill data with nearest method and reshape back to the same shape as data\n",
    "    filled_data = griddata(valid_points, valid_values, all_points, method='nearest').reshape(data.shape)\n",
    "\n",
    "    return filled_data"
   ]
  },
  {
   "cell_type": "code",
   "execution_count": 10,
   "id": "851458b4-bcab-4cb1-95f0-14f97e4e1863",
   "metadata": {},
   "outputs": [
    {
     "name": "stdout",
     "output_type": "stream",
     "text": [
      "Creating Interpolation Function for zone rf ...\n",
      "Interpolating function construction time: 59.7452 seconds.\n",
      "Creating Interpolation Function for zone cy ...\n",
      "Interpolating function construction time: 260.1772 seconds.\n",
      "Creating Interpolation Function for zone c1 ...\n",
      "Interpolating function construction time: 177.1938 seconds.\n",
      "Creating Interpolation Function for zone c2 ...\n",
      "Interpolating function construction time: 243.9502 seconds.\n",
      "Creating Interpolation Function for zone c3 ...\n",
      "Interpolating function construction time: 225.2814 seconds.\n"
     ]
    }
   ],
   "source": [
    "from scipy.interpolate import RegularGridInterpolator\n",
    "\n",
    "# If we fill NaNs in data with nearest value\n",
    "fill_NaNs = True\n",
    "delete_original = False\n",
    "\n",
    "# Generate interpolation functions\n",
    "rf_force_filled = {}\n",
    "rf_interps = {}\n",
    "\n",
    "for zone in rf_conf:\n",
    "\n",
    "    print(f'Creating Interpolation Function for zone {zone} ...')\n",
    "    rf_interps[zone] = {}\n",
    "    \n",
    "    if fill_NaNs:\n",
    "        \n",
    "        rf_force_filled[zone] = {}\n",
    "        \n",
    "        for coord in ('x', 'y', 'z'):\n",
    "            \n",
    "            # Fill the force field to eliminate NaNs\n",
    "            start_time = time.time()\n",
    "            rf_force_filled[zone][coord] = fill_NaN_nearest(rf_force[zone][coord],\n",
    "                rf_grid[zone]['x'], rf_grid[zone]['y'], rf_grid[zone]['z'])\n",
    "            end_time = time.time()\n",
    "            print(f'Time consumed for filling NaN in {coord} direction: {end_time - start_time:.4f} seconds.')\n",
    "            \n",
    "            # Create interpolation with filled data\n",
    "            start_time = time.time()\n",
    "            rf_interps[zone][coord] = RegularGridInterpolator(\n",
    "                (rf_grid[zone]['unique_x'],\n",
    "                 rf_grid[zone]['unique_y'],\n",
    "                 rf_grid[zone]['unique_z']),\n",
    "                rf_force_filled[zone][coord],\n",
    "                method = 'cubic'\n",
    "            )\n",
    "            end_time = time.time()\n",
    "            print(f'Time consumed for constructing interpolation function in {coord} direction: {end_time - start_time:.4f} seconds.')\n",
    "    \n",
    "    else:\n",
    "        for coord in ('x', 'y', 'z'):\n",
    "            start_time = time.time()\n",
    "            rf_interps[zone][coord] = RegularGridInterpolator(\n",
    "                (rf_grid[zone]['unique_x'],\n",
    "                 rf_grid[zone]['unique_y'],\n",
    "                 rf_grid[zone]['unique_z']),\n",
    "                rf_force[zone][coord],\n",
    "                method = 'cubic'\n",
    "            )\n",
    "            end_time = time.time()\n",
    "            print(f'Time consumed for constructing interpolation function in {coord} direction: {end_time - start_time:.4f} seconds.')\n",
    "\n",
    "if delete_original:\n",
    "    del rf_force\n",
    "    gc.collect()"
   ]
  },
  {
   "cell_type": "code",
   "execution_count": 13,
   "id": "07d76c28-b0e4-4748-8927-ec125acd87cd",
   "metadata": {},
   "outputs": [],
   "source": [
    "# Interpolators for error testing\n",
    "test = {}\n",
    "ref = {}\n",
    "for zone in rf_conf:\n",
    "    test[zone] = rf_interps[zone]['x']\n",
    "    ref[zone] = RegularGridInterpolator(\n",
    "        (rf_grid[zone]['unique_x'],\n",
    "         rf_grid[zone]['unique_y'],\n",
    "         rf_grid[zone]['unique_z']),\n",
    "        rf_force_filled[zone]['x'],\n",
    "        method = 'nearest'\n",
    "    )"
   ]
  },
  {
   "cell_type": "code",
   "execution_count": 24,
   "id": "af68a85b-ff8b-4e32-8866-bd0a5a0c3258",
   "metadata": {},
   "outputs": [],
   "source": [
    "def zone_identifier(point, zones=rf_conf):\n",
    "    \"\"\"\n",
    "    Determines which zone a given point belongs to, with zones of smaller stepsize taking priority.\n",
    "    \n",
    "    Parameters:\n",
    "        point (array-like): The (x, y, z) coordinates of the point as a list, tuple, or NumPy array.\n",
    "        zones (dict, optional): A dictionary of zones with their configurations. Each key is the zone name,\n",
    "            and each value is a dictionary containing:\n",
    "                - 'file' (optional for this function): The file path associated with the zone.\n",
    "                - 'min': A tuple of minimum (x, y, z) coordinates defining the zone boundary.\n",
    "                - 'max': A tuple of maximum (x, y, z) coordinates defining the zone boundary.\n",
    "                - 'step': A tuple of stepsizes (dx, dy, dz) for the zone grid.\n",
    "            Defaults to `rf_conf`, which should be defined elsewhere in your code.\n",
    "    \n",
    "    Returns:\n",
    "        str: The name of the zone to which the point belongs.\n",
    "    \n",
    "    Raises:\n",
    "        ValueError: If the point does not belong to any of the defined zones.\n",
    "    \n",
    "    Example:\n",
    "        >>> rf_conf = {\n",
    "        ...     'rf': {'file': '...', 'min': (...), 'max': (...), 'step': (...)},\n",
    "        ...     'c1': {'file': '...', 'min': (...), 'max': (...), 'step': (...)},\n",
    "        ...     # Add other zones as needed\n",
    "        ... }\n",
    "        >>> point = [0.0003, 0.0003, 0.0003]\n",
    "        >>> zone = zone_identifier(point, zones=rf_conf)\n",
    "        >>> print(f'Point {point} belongs to zone: {zone}')\n",
    "        Point [0.0003, 0.0003, 0.0003] belongs to zone: c3\n",
    "    \"\"\"\n",
    "    import numpy as np\n",
    "\n",
    "    # Convert the input point to a NumPy array for easy manipulation\n",
    "    point = np.array(point)\n",
    "\n",
    "    # Function to calculate the maximum stepsize of a zone\n",
    "    def max_stepsize(zone):\n",
    "        return max(zone['step'])\n",
    "\n",
    "    # Sort zones by ascending maximum stepsize (smaller stepsize has higher priority)\n",
    "    sorted_zones = sorted(zones.items(), key=lambda item: max_stepsize(item[1]))\n",
    "\n",
    "    # Iterate over the zones in order of priority\n",
    "    for zone_name, zone_data in sorted_zones:\n",
    "        min_bounds = np.array(zone_data['min'])\n",
    "        max_bounds = np.array(zone_data['max'])\n",
    "        # Check if the point lies within the bounds of the zone\n",
    "        if np.all(point >= min_bounds) and np.all(point <= max_bounds):\n",
    "            return zone_name  # Return the name of the zone\n",
    "\n",
    "    # If the point does not belong to any zone, raise an error\n",
    "    raise ValueError(f\"Point {point} does not belong to any zone.\")\n"
   ]
  },
  {
   "cell_type": "code",
   "execution_count": 16,
   "id": "9f22d0ab-f489-45ff-aee8-7b34f8d7765a",
   "metadata": {},
   "outputs": [
    {
     "data": {
      "text/plain": [
       "{'rf': {'file': '..\\\\Ansys\\\\Outputs_RF\\\\TrajSimTest.fld',\n",
       "  'min': (-0.008, -0.0065, -0.001),\n",
       "  'max': (0.008, 0.0065, 0.01),\n",
       "  'step': (0.0001, 0.0001, 0.0001)},\n",
       " 'cy': {'file': '..\\\\Ansys\\\\Outputs_RF\\\\TrajSimTest_Cylinder.fld',\n",
       "  'min': (-0.005, -0.005, -0.001),\n",
       "  'max': (0.005, 0.005, 0.01),\n",
       "  'step': (5e-05, 5e-05, 5e-05)},\n",
       " 'c1': {'file': '..\\\\Ansys\\\\Outputs_RF\\\\TrajSimTest_Cube1.fld',\n",
       "  'min': (-0.002, -0.002, -0.001),\n",
       "  'max': (0.002, 0.002, 0.002),\n",
       "  'step': (2e-05, 2e-05, 2e-05)},\n",
       " 'c2': {'file': '..\\\\Ansys\\\\Outputs_RF\\\\TrajSimTest_Cube2.fld',\n",
       "  'min': (-0.001, -0.001, -0.001),\n",
       "  'max': (0.001, 0.001, 0.001),\n",
       "  'step': (1e-05, 1e-05, 1e-05)},\n",
       " 'c3': {'file': '..\\\\Ansys\\\\Outputs_RF\\\\TrajSimTest_Cube3.fld',\n",
       "  'min': (-0.0005, -0.0005, -0.0005),\n",
       "  'max': (0.0005, 0.0005, 0.0005),\n",
       "  'step': (5e-06, 5e-06, 5e-06)}}"
      ]
     },
     "execution_count": 16,
     "metadata": {},
     "output_type": "execute_result"
    }
   ],
   "source": [
    "rf_conf"
   ]
  },
  {
   "cell_type": "code",
   "execution_count": null,
   "id": "a8755b29-fecc-4e9c-8bd9-cc3e7d5e2800",
   "metadata": {},
   "outputs": [],
   "source": []
  }
 ],
 "metadata": {
  "kernelspec": {
   "display_name": "Python 3 (ipykernel)",
   "language": "python",
   "name": "python3"
  },
  "language_info": {
   "codemirror_mode": {
    "name": "ipython",
    "version": 3
   },
   "file_extension": ".py",
   "mimetype": "text/x-python",
   "name": "python",
   "nbconvert_exporter": "python",
   "pygments_lexer": "ipython3",
   "version": "3.9.19"
  }
 },
 "nbformat": 4,
 "nbformat_minor": 5
}
