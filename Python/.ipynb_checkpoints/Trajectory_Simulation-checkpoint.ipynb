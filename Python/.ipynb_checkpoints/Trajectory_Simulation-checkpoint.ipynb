{
 "cells": [
  {
   "cell_type": "code",
   "execution_count": 1,
   "id": "4be0b6d5-5b6e-40ed-b47e-1c3d8995949c",
   "metadata": {},
   "outputs": [],
   "source": [
    "import numpy as np\n",
    "import matplotlib.pyplot as plt\n",
    "from mpl_toolkits.mplot3d import Axes3D\n",
    "from scipy.interpolate import RegularGridInterpolator\n",
    "from scipy.integrate import solve_ivp\n",
    "import time\n",
    "\n",
    "from helper_functions import read_field_data, calculate_E_field, grid_from_header, calculate_pseudopotential, construct_interp_funcs, sample_and_solve_trajectories"
   ]
  },
  {
   "cell_type": "markdown",
   "id": "8530673d-eec4-464f-89bb-7d8ecfbfa96b",
   "metadata": {},
   "source": [
    "# Read data from ANSYS exported files\n",
    "Notes:\n",
    "1. ANSYS exported RF file contains magnitude of electric field in space.\n",
    "2. ANSYS exported DC file contains electric potential in space.\n",
    "3. DC files are divided into different zones (labelled as 'gl', 'cy', 'c1', 'c2', 'c3') to reduce inaccuracy near trapping area.\n",
    "4. RF field is only considered inside rf_range, zero RF field will be returned when outside"
   ]
  },
  {
   "cell_type": "code",
   "execution_count": 3,
   "id": "8e2d60eb-b379-47c1-84aa-8625329a9bb0",
   "metadata": {},
   "outputs": [],
   "source": [
    "# Set up zoning configuration\n",
    "U2 = -0.5\n",
    "Ext_pulse = 20\n",
    "Mesh = 250\n",
    "MCP = 300\n",
    "prefix = f'U{-U2}E{Ext_pulse}M{Mesh}M{MCP}'\n",
    "\n",
    "dc_conf = {\n",
    "    'gl': {'file': '..\\\\Ansys\\\\Outputs_DC\\\\Trajectory_sim\\\\' + prefix + '_global.fld'},\n",
    "    'cy': {'file': '..\\\\Ansys\\\\Outputs_DC\\\\Trajectory_sim\\\\' + prefix + '_cylinder.fld'},\n",
    "    'c1': {'file': '..\\\\Ansys\\\\Outputs_DC\\\\Trajectory_sim\\\\' + prefix + '_cube1.fld'},\n",
    "    'c2': {'file': '..\\\\Ansys\\\\Outputs_DC\\\\Trajectory_sim\\\\' + prefix + '_cube2.fld'},\n",
    "    'c3': {'file': '..\\\\Ansys\\\\Outputs_DC\\\\Trajectory_sim\\\\' + prefix + '_cube3.fld'}\n",
    "        }\n",
    "rf_file = '..\\\\Ansys\\\\Outputs_RF\\\\TrajSimTest_Cube3.fld'\n",
    "rf_range = {'min': (-3e-4, -3e-4, -3e-4), 'max': (3e-4, 3e-4, 3e-4)}"
   ]
  },
  {
   "cell_type": "code",
   "execution_count": 4,
   "id": "90541236-3c4f-4284-bcd5-a80254974d81",
   "metadata": {},
   "outputs": [
    {
     "name": "stdout",
     "output_type": "stream",
     "text": [
      "Reading zone gl\n",
      "File Readout Time: 4.5912 seconds.\n",
      "Reading zone cy\n",
      "File Readout Time: 14.5416 seconds.\n",
      "Reading zone c1\n",
      "File Readout Time: 4.6832 seconds.\n",
      "Reading zone c2\n",
      "File Readout Time: 6.7759 seconds.\n",
      "Reading zone c3\n",
      "File Readout Time: 6.2686 seconds.\n",
      "Reading RF data...\n",
      "RF File Readout Time: 6.1092 seconds.\n"
     ]
    }
   ],
   "source": [
    "# Read data from files and organize them (takes less than 1 minute)\n",
    "dc_conf, grid, voltage, rf_grid, magE = read_field_data(dc_conf, rf_file)"
   ]
  },
  {
   "cell_type": "markdown",
   "id": "27bc324a-1e88-46ca-9aec-312552c2a216",
   "metadata": {},
   "source": [
    "# Process ANSYS data and construct interpolation\n",
    "This step includes:\n",
    "1. Calculate RF pseudopotential from ANSYS RF file from equation: $U_{ps}=\\dfrac{q^2|E|^2}{4m\\Omega^2}$Note that $\\Omega=2\\pi f$.\n",
    "2. Take gradient of RF and DC field to get equivalent electric fields: $\\vec{E}_{dc}=-\\nabla V_{dc}$ and $\\vec{E}_{eq,rf}=\\dfrac{1}{e}\\nabla U_{ps}$.\n",
    "3. Calculate interpolation function for RF and DC fields so that we can handle non grid points (fill NaNs in data if needed)."
   ]
  },
  {
   "cell_type": "code",
   "execution_count": 6,
   "id": "dfc2fda0-921c-40e6-9121-968f38362254",
   "metadata": {},
   "outputs": [],
   "source": [
    "# Calcuate DC and RF fields\n",
    "dc_field = calculate_E_field(dc_conf, voltage)\n",
    "\n",
    "freq = 1.36e+09\n",
    "_, _, step = grid_from_header(filename=rf_file, mode='conf')\n",
    "Ups, rf_force = calculate_pseudopotential(magE, freq, gradient=True, stepsize=step[0])"
   ]
  },
  {
   "cell_type": "code",
   "execution_count": 7,
   "id": "ca0fd668-27dc-47fe-a09f-d1736814ee21",
   "metadata": {},
   "outputs": [
    {
     "name": "stdout",
     "output_type": "stream",
     "text": [
      "Filling NaNs in data for zone gl ...\n",
      "Time consumed for filling NaNs in x component: 7.4861 seconds.\n",
      "Time consumed for filling NaNs in y component: 6.6419 seconds.\n",
      "Time consumed for filling NaNs in z component: 7.0200 seconds.\n",
      "Filling NaNs in data for zone cy ...\n",
      "Time consumed for filling NaNs in x component: 22.0262 seconds.\n",
      "Time consumed for filling NaNs in y component: 23.6357 seconds.\n",
      "Time consumed for filling NaNs in z component: 24.7297 seconds.\n",
      "Filling NaNs in data for zone c1 ...\n",
      "Time consumed for filling NaNs in x component: 7.5378 seconds.\n",
      "Time consumed for filling NaNs in y component: 7.1830 seconds.\n",
      "Time consumed for filling NaNs in z component: 7.2178 seconds.\n",
      "Filling NaNs in data for zone c2 ...\n",
      "Time consumed for filling NaNs in x component: 9.5734 seconds.\n",
      "Time consumed for filling NaNs in y component: 11.7611 seconds.\n",
      "Time consumed for filling NaNs in z component: 9.9415 seconds.\n",
      "Filling NaNs in data for zone c3 ...\n",
      "Time consumed for filling NaNs in x component: 9.5006 seconds.\n",
      "Time consumed for filling NaNs in y component: 9.4309 seconds.\n",
      "Time consumed for filling NaNs in z component: 9.0042 seconds.\n",
      "Creating interpolation functions for zone gl ...\n",
      "Time consumed for constructing interpolation function in x component: 22.5216 seconds.\n",
      "Time consumed for constructing interpolation function in y component: 22.2751 seconds.\n",
      "Time consumed for constructing interpolation function in z component: 22.0596 seconds.\n",
      "Creating interpolation functions for zone cy ...\n",
      "Time consumed for constructing interpolation function in x component: 87.7809 seconds.\n",
      "Time consumed for constructing interpolation function in y component: 70.0185 seconds.\n",
      "Time consumed for constructing interpolation function in z component: 66.6196 seconds.\n",
      "Creating interpolation functions for zone c1 ...\n",
      "Time consumed for constructing interpolation function in x component: 24.9937 seconds.\n",
      "Time consumed for constructing interpolation function in y component: 23.9023 seconds.\n",
      "Time consumed for constructing interpolation function in z component: 23.7974 seconds.\n",
      "Creating interpolation functions for zone c2 ...\n",
      "Time consumed for constructing interpolation function in x component: 31.2139 seconds.\n",
      "Time consumed for constructing interpolation function in y component: 31.5446 seconds.\n",
      "Time consumed for constructing interpolation function in z component: 32.5845 seconds.\n",
      "Creating interpolation functions for zone c3 ...\n",
      "Time consumed for constructing interpolation function in x component: 29.9555 seconds.\n",
      "Time consumed for constructing interpolation function in y component: 33.6086 seconds.\n",
      "Time consumed for constructing interpolation function in z component: 28.8346 seconds.\n",
      "Filling NaNs in RF data ...\n",
      "Time consumed for filling NaNs in RF data (x component): 9.4389 seconds.\n",
      "Time consumed for filling NaNs in RF data (y component): 9.8245 seconds.\n",
      "Time consumed for filling NaNs in RF data (z component): 9.4545 seconds.\n",
      "Creating interpolation functions for RF data ...\n",
      "Time consumed for constructing RF interpolation function (x component): 34.6172 seconds.\n",
      "Time consumed for constructing RF interpolation function (y component): 37.8612 seconds.\n",
      "Time consumed for constructing RF interpolation function (z component): 36.3751 seconds.\n"
     ]
    }
   ],
   "source": [
    "# Construct Interpolations\n",
    "# Time consuming, takes ~ 3 minutes to fill NaNs, ~ 12 minutes to build interpolations\n",
    "dc_interps, rf_interp = construct_interp_funcs(dc_field, grid, data_rf=rf_force, grid_rf=rf_grid, fill_NaNs=True)"
   ]
  },
  {
   "cell_type": "code",
   "execution_count": 8,
   "id": "1bf98c11-c7ec-41c3-ae1d-a5fc581f5974",
   "metadata": {},
   "outputs": [
    {
     "data": {
      "text/plain": [
       "0"
      ]
     },
     "execution_count": 8,
     "metadata": {},
     "output_type": "execute_result"
    }
   ],
   "source": [
    "# Delete unneeded params to free RAM space\n",
    "import gc\n",
    "\n",
    "del grid, voltage, rf_grid, magE, dc_field, Ups, rf_force\n",
    "gc.collect()"
   ]
  },
  {
   "cell_type": "markdown",
   "id": "56488608-3a71-414d-b2b4-29796825196a",
   "metadata": {},
   "source": [
    "# Solve trajectories of electrons when extraction pulse was applied\n",
    "Note:\n",
    "1. The equation of motion of the electrons is $m_e\\vec{a}=-e(\\vec{E}_{dc}+\\vec{E}_{eq,rf})$.\n",
    "2. When an electron travels outside the interpolation zone [-8, 8] x [-8, 8] x [-1, 21] (unit: mm), simulation will be terminated.\n",
    "3. Time for electrons arriving at the MCP ([-5, 5] x [-5, 5], {z=20}, unit: mm) from bottom to top (z increase) was recorded.\n",
    "4. Codes are wrapped in helper_functions.sample_and_solve_trajectories"
   ]
  },
  {
   "cell_type": "code",
   "execution_count": null,
   "id": "be2a0882-e61e-4e8f-801a-0e790924c826",
   "metadata": {},
   "outputs": [
    {
     "name": "stdout",
     "output_type": "stream",
     "text": [
      "Generating initial conditions for particles ...\n",
      "Simulating particle trajectories ...\n",
      "Solving particles 201/10000 ..."
     ]
    }
   ],
   "source": [
    "# Set simulation configurations\n",
    "num_particles = 10000\n",
    "num_trajectories = 500\n",
    "sigma_pos = 60e-06\n",
    "sigma_velo = 1.8e+5\n",
    "\n",
    "# Trajectories are large so we only save a couple of them for efficiency\n",
    "results = sample_and_solve_trajectories(num_particles, sigma_pos, sigma_velo, dc_interps, rf_interp, dc_conf, rf_range, save_trajectories=False)\n",
    "trajs = sample_and_solve_trajectories(num_trajectories, sigma_pos, sigma_velo, dc_interps, rf_interp, dc_conf, rf_range, save_trajectories=True)"
   ]
  },
  {
   "cell_type": "code",
   "execution_count": null,
   "id": "5e405120-89f4-4e23-813f-494391f0cc95",
   "metadata": {},
   "outputs": [],
   "source": []
  },
  {
   "cell_type": "code",
   "execution_count": null,
   "id": "493750d9-1e37-4fb1-920b-e0eee5f103bf",
   "metadata": {},
   "outputs": [],
   "source": []
  }
 ],
 "metadata": {
  "kernelspec": {
   "display_name": "Python 3 (ipykernel)",
   "language": "python",
   "name": "python3"
  },
  "language_info": {
   "codemirror_mode": {
    "name": "ipython",
    "version": 3
   },
   "file_extension": ".py",
   "mimetype": "text/x-python",
   "name": "python",
   "nbconvert_exporter": "python",
   "pygments_lexer": "ipython3",
   "version": "3.12.4"
  }
 },
 "nbformat": 4,
 "nbformat_minor": 5
}
