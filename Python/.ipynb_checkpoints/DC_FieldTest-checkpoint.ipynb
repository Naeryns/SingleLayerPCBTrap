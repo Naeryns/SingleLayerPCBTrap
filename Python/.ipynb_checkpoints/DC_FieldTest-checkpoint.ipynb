{
 "cells": [
  {
   "cell_type": "code",
   "execution_count": 1,
   "id": "9bfc2c93-58be-4ae7-99c2-6d867619db36",
   "metadata": {},
   "outputs": [],
   "source": [
    "import numpy as np\n",
    "import matplotlib.pyplot as plt\n",
    "from scipy.interpolate import RegularGridInterpolator\n",
    "import time\n",
    "\n",
    "from helper_functions import read_field_data, random_sampling, grid_sampling, zone_identifier, construct_interp_funcs"
   ]
  },
  {
   "cell_type": "code",
   "execution_count": 2,
   "id": "203c6f3e-f490-4a8f-85e5-a63345f2388d",
   "metadata": {},
   "outputs": [],
   "source": [
    "# Set up zoning configuration\n",
    "U2 = -0.5\n",
    "Ext_pulse = 20\n",
    "Mesh = 250\n",
    "MCP = 300\n",
    "prefix = f'U{-U2}E{Ext_pulse}M{Mesh}M{MCP}'\n",
    "\n",
    "dc_conf = {\n",
    "    'gl': {'file': '..\\\\Ansys\\\\Outputs_DC\\\\Trajectory_sim\\\\' + prefix + '_global.fld'},\n",
    "    'cy': {'file': '..\\\\Ansys\\\\Outputs_DC\\\\Trajectory_sim\\\\' + prefix + '_cylinder.fld'},\n",
    "    'c1': {'file': '..\\\\Ansys\\\\Outputs_DC\\\\Trajectory_sim\\\\' + prefix + '_cube1.fld'},\n",
    "    'c2': {'file': '..\\\\Ansys\\\\Outputs_DC\\\\Trajectory_sim\\\\' + prefix + '_cube2.fld'},\n",
    "    'c3': {'file': '..\\\\Ansys\\\\Outputs_DC\\\\Trajectory_sim\\\\' + prefix + '_cube3.fld'}\n",
    "        }"
   ]
  },
  {
   "cell_type": "code",
   "execution_count": 3,
   "id": "9b7fafbf-8678-46d8-80c7-fec72e644a7c",
   "metadata": {},
   "outputs": [
    {
     "name": "stdout",
     "output_type": "stream",
     "text": [
      "Reading zone gl\n",
      "File Readout Time: 9.7384 seconds.\n",
      "Reading zone cy\n",
      "File Readout Time: 31.6336 seconds.\n",
      "Reading zone c1\n",
      "File Readout Time: 10.5707 seconds.\n",
      "Reading zone c2\n",
      "File Readout Time: 14.5406 seconds.\n",
      "Reading zone c3\n",
      "File Readout Time: 14.2491 seconds.\n"
     ]
    }
   ],
   "source": [
    "dc_conf, grid, voltages = read_field_data(dc_conf)"
   ]
  },
  {
   "cell_type": "code",
   "execution_count": 4,
   "id": "acfacb66-89dd-4d42-a8ec-34d38491b387",
   "metadata": {},
   "outputs": [
    {
     "data": {
      "text/plain": [
       "{'gl': {'file': '..\\\\Ansys\\\\Outputs_DC\\\\Trajectory_sim\\\\U0.5E20M250M300_global.fld',\n",
       "  'min': (-0.008, -0.008, -0.001),\n",
       "  'max': (0.008, 0.008, 0.021),\n",
       "  'step': (0.0001, 0.0001, 0.0001)},\n",
       " 'cy': {'file': '..\\\\Ansys\\\\Outputs_DC\\\\Trajectory_sim\\\\U0.5E20M250M300_cylinder.fld',\n",
       "  'min': (-0.005, -0.005, -0.001),\n",
       "  'max': (0.005, 0.005, 0.021),\n",
       "  'step': (5e-05, 5e-05, 5e-05)},\n",
       " 'c1': {'file': '..\\\\Ansys\\\\Outputs_DC\\\\Trajectory_sim\\\\U0.5E20M250M300_cube1.fld',\n",
       "  'min': (-0.002, -0.002, -0.001),\n",
       "  'max': (0.002, 0.002, 0.002),\n",
       "  'step': (2e-05, 2e-05, 2e-05)},\n",
       " 'c2': {'file': '..\\\\Ansys\\\\Outputs_DC\\\\Trajectory_sim\\\\U0.5E20M250M300_cube2.fld',\n",
       "  'min': (-0.001, -0.001, -0.001),\n",
       "  'max': (0.001, 0.001, 0.001),\n",
       "  'step': (1e-05, 1e-05, 1e-05)},\n",
       " 'c3': {'file': '..\\\\Ansys\\\\Outputs_DC\\\\Trajectory_sim\\\\U0.5E20M250M300_cube3.fld',\n",
       "  'min': (-0.0005, -0.0005, -0.0005),\n",
       "  'max': (0.0005, 0.0005, 0.0005),\n",
       "  'step': (5e-06, 5e-06, 5e-06)}}"
      ]
     },
     "execution_count": 4,
     "metadata": {},
     "output_type": "execute_result"
    }
   ],
   "source": [
    "dc_conf"
   ]
  },
  {
   "cell_type": "code",
   "execution_count": 19,
   "id": "1c976fc7-b4b2-4813-8b7e-38ed2d08cc53",
   "metadata": {},
   "outputs": [
    {
     "name": "stdout",
     "output_type": "stream",
     "text": [
      "gl\n",
      "cy\n",
      "c1\n",
      "c2\n",
      "c3\n"
     ]
    }
   ],
   "source": [
    "for zone in voltages:\n",
    "    print(zone)"
   ]
  },
  {
   "cell_type": "code",
   "execution_count": null,
   "id": "27a7f46c-4eb4-4680-a425-629344e39473",
   "metadata": {},
   "outputs": [],
   "source": []
  }
 ],
 "metadata": {
  "kernelspec": {
   "display_name": "Python 3 (ipykernel)",
   "language": "python",
   "name": "python3"
  },
  "language_info": {
   "codemirror_mode": {
    "name": "ipython",
    "version": 3
   },
   "file_extension": ".py",
   "mimetype": "text/x-python",
   "name": "python",
   "nbconvert_exporter": "python",
   "pygments_lexer": "ipython3",
   "version": "3.12.4"
  }
 },
 "nbformat": 4,
 "nbformat_minor": 5
}
